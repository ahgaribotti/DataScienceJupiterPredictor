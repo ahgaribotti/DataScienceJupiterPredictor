{
 "cells": [
  {
   "cell_type": "code",
   "execution_count": 1,
   "metadata": {},
   "outputs": [],
   "source": [
    "from sklearn import preprocessing\n",
    "from sklearn.model_selection import train_test_split\n",
    "from sklearn.datasets import make_classification\n",
    "from sklearn.linear_model import LogisticRegression\n",
    "import matplotlib.pyplot as plt\n",
    "import pandas as pd\n",
    "import numpy as np\n",
    "import seaborn as sns\n",
    "from sklearn.metrics import confusion_matrix, recall_score, roc_curve, auc, accuracy_score, classification_report\n",
    "from sklearn.tree import DecisionTreeClassifier\n",
    "from sklearn.metrics import confusion_matrix\n",
    "from sklearn import preprocessing\n",
    "from sklearn.model_selection import train_test_split\n",
    "from sklearn.datasets import make_classification\n",
    "import matplotlib.pyplot as plt\n",
    "import pandas as pd\n",
    "import numpy as np\n",
    "import seaborn as sns\n",
    "from sklearn.metrics import confusion_matrix, recall_score, roc_curve, auc, accuracy_score, classification_report\n",
    "\n",
    "import warnings\n",
    "warnings.filterwarnings(\"ignore\")\n",
    "from sklearn.model_selection import KFold\n",
    "from sklearn.tree import DecisionTreeClassifier\n",
    "from sklearn.ensemble import RandomForestClassifier, ExtraTreesClassifier, BaggingClassifier\n",
    "from sklearn.metrics import precision_score"
   ]
  },
  {
   "cell_type": "code",
   "execution_count": 2,
   "metadata": {},
   "outputs": [
    {
     "data": {
      "text/html": [
       "<div>\n",
       "<style scoped>\n",
       "    .dataframe tbody tr th:only-of-type {\n",
       "        vertical-align: middle;\n",
       "    }\n",
       "\n",
       "    .dataframe tbody tr th {\n",
       "        vertical-align: top;\n",
       "    }\n",
       "\n",
       "    .dataframe thead th {\n",
       "        text-align: right;\n",
       "    }\n",
       "</style>\n",
       "<table border=\"1\" class=\"dataframe\">\n",
       "  <thead>\n",
       "    <tr style=\"text-align: right;\">\n",
       "      <th></th>\n",
       "      <th>date</th>\n",
       "      <th>home_team</th>\n",
       "      <th>away_team</th>\n",
       "      <th>home_score</th>\n",
       "      <th>away_score</th>\n",
       "      <th>Competicion Valoracion</th>\n",
       "      <th>Condicion A</th>\n",
       "      <th>Condicion B</th>\n",
       "      <th>Resultado Home</th>\n",
       "      <th>Dif Goles Home</th>\n",
       "      <th>...</th>\n",
       "      <th>M a M Dif Gol Hist Home</th>\n",
       "      <th>M a M Dif Gol Hist Away</th>\n",
       "      <th>Perfor 5 Años Home</th>\n",
       "      <th>Perfor 5 Años Away</th>\n",
       "      <th>Perfor 10 Años Home</th>\n",
       "      <th>Perfor 10 Años Away</th>\n",
       "      <th>M a M Com &gt; 5 Home</th>\n",
       "      <th>M a M Com &gt; 5 Away</th>\n",
       "      <th>Perfor 10 Añ Comp&gt;5 Home</th>\n",
       "      <th>Perfor 10 Añ Comp&gt;5 Away</th>\n",
       "    </tr>\n",
       "  </thead>\n",
       "  <tbody>\n",
       "    <tr>\n",
       "      <th>26043</th>\n",
       "      <td>2003-12-20</td>\n",
       "      <td>156</td>\n",
       "      <td>152</td>\n",
       "      <td>0</td>\n",
       "      <td>2</td>\n",
       "      <td>1</td>\n",
       "      <td>0</td>\n",
       "      <td>0</td>\n",
       "      <td>-1</td>\n",
       "      <td>-2</td>\n",
       "      <td>...</td>\n",
       "      <td>0</td>\n",
       "      <td>0</td>\n",
       "      <td>-7</td>\n",
       "      <td>7</td>\n",
       "      <td>-17</td>\n",
       "      <td>19</td>\n",
       "      <td>0</td>\n",
       "      <td>0</td>\n",
       "      <td>-8</td>\n",
       "      <td>5</td>\n",
       "    </tr>\n",
       "    <tr>\n",
       "      <th>10925</th>\n",
       "      <td>1979-11-01</td>\n",
       "      <td>179</td>\n",
       "      <td>217</td>\n",
       "      <td>1</td>\n",
       "      <td>0</td>\n",
       "      <td>1</td>\n",
       "      <td>1</td>\n",
       "      <td>-1</td>\n",
       "      <td>1</td>\n",
       "      <td>1</td>\n",
       "      <td>...</td>\n",
       "      <td>-1</td>\n",
       "      <td>1</td>\n",
       "      <td>4</td>\n",
       "      <td>1</td>\n",
       "      <td>18</td>\n",
       "      <td>-4</td>\n",
       "      <td>0</td>\n",
       "      <td>0</td>\n",
       "      <td>8</td>\n",
       "      <td>3</td>\n",
       "    </tr>\n",
       "    <tr>\n",
       "      <th>6702</th>\n",
       "      <td>1968-08-11</td>\n",
       "      <td>129</td>\n",
       "      <td>278</td>\n",
       "      <td>0</td>\n",
       "      <td>0</td>\n",
       "      <td>1</td>\n",
       "      <td>0</td>\n",
       "      <td>0</td>\n",
       "      <td>0</td>\n",
       "      <td>0</td>\n",
       "      <td>...</td>\n",
       "      <td>-2</td>\n",
       "      <td>2</td>\n",
       "      <td>-18</td>\n",
       "      <td>-12</td>\n",
       "      <td>-15</td>\n",
       "      <td>-20</td>\n",
       "      <td>0</td>\n",
       "      <td>0</td>\n",
       "      <td>-6</td>\n",
       "      <td>0</td>\n",
       "    </tr>\n",
       "    <tr>\n",
       "      <th>4769</th>\n",
       "      <td>1961-04-19</td>\n",
       "      <td>301</td>\n",
       "      <td>265</td>\n",
       "      <td>1</td>\n",
       "      <td>2</td>\n",
       "      <td>5</td>\n",
       "      <td>1</td>\n",
       "      <td>-1</td>\n",
       "      <td>-1</td>\n",
       "      <td>-1</td>\n",
       "      <td>...</td>\n",
       "      <td>0</td>\n",
       "      <td>0</td>\n",
       "      <td>1</td>\n",
       "      <td>8</td>\n",
       "      <td>-4</td>\n",
       "      <td>9</td>\n",
       "      <td>0</td>\n",
       "      <td>0</td>\n",
       "      <td>0</td>\n",
       "      <td>1</td>\n",
       "    </tr>\n",
       "    <tr>\n",
       "      <th>22092</th>\n",
       "      <td>1999-08-18</td>\n",
       "      <td>130</td>\n",
       "      <td>181</td>\n",
       "      <td>1</td>\n",
       "      <td>1</td>\n",
       "      <td>1</td>\n",
       "      <td>1</td>\n",
       "      <td>-1</td>\n",
       "      <td>0</td>\n",
       "      <td>0</td>\n",
       "      <td>...</td>\n",
       "      <td>0</td>\n",
       "      <td>0</td>\n",
       "      <td>-2</td>\n",
       "      <td>-17</td>\n",
       "      <td>-8</td>\n",
       "      <td>-18</td>\n",
       "      <td>0</td>\n",
       "      <td>0</td>\n",
       "      <td>-4</td>\n",
       "      <td>-8</td>\n",
       "    </tr>\n",
       "    <tr>\n",
       "      <th>3009</th>\n",
       "      <td>1950-07-13</td>\n",
       "      <td>270</td>\n",
       "      <td>296</td>\n",
       "      <td>2</td>\n",
       "      <td>3</td>\n",
       "      <td>7</td>\n",
       "      <td>0</td>\n",
       "      <td>0</td>\n",
       "      <td>-1</td>\n",
       "      <td>-1</td>\n",
       "      <td>...</td>\n",
       "      <td>0</td>\n",
       "      <td>0</td>\n",
       "      <td>14</td>\n",
       "      <td>0</td>\n",
       "      <td>20</td>\n",
       "      <td>4</td>\n",
       "      <td>0</td>\n",
       "      <td>0</td>\n",
       "      <td>2</td>\n",
       "      <td>9</td>\n",
       "    </tr>\n",
       "    <tr>\n",
       "      <th>38525</th>\n",
       "      <td>2017-03-23</td>\n",
       "      <td>70</td>\n",
       "      <td>42</td>\n",
       "      <td>1</td>\n",
       "      <td>0</td>\n",
       "      <td>5</td>\n",
       "      <td>1</td>\n",
       "      <td>-1</td>\n",
       "      <td>1</td>\n",
       "      <td>1</td>\n",
       "      <td>...</td>\n",
       "      <td>14</td>\n",
       "      <td>-14</td>\n",
       "      <td>18</td>\n",
       "      <td>-16</td>\n",
       "      <td>26</td>\n",
       "      <td>-37</td>\n",
       "      <td>5</td>\n",
       "      <td>-5</td>\n",
       "      <td>10</td>\n",
       "      <td>-28</td>\n",
       "    </tr>\n",
       "    <tr>\n",
       "      <th>35316</th>\n",
       "      <td>2013-09-06</td>\n",
       "      <td>147</td>\n",
       "      <td>100</td>\n",
       "      <td>2</td>\n",
       "      <td>1</td>\n",
       "      <td>5</td>\n",
       "      <td>1</td>\n",
       "      <td>-1</td>\n",
       "      <td>1</td>\n",
       "      <td>1</td>\n",
       "      <td>...</td>\n",
       "      <td>-2</td>\n",
       "      <td>2</td>\n",
       "      <td>-16</td>\n",
       "      <td>-23</td>\n",
       "      <td>-41</td>\n",
       "      <td>-50</td>\n",
       "      <td>0</td>\n",
       "      <td>0</td>\n",
       "      <td>-22</td>\n",
       "      <td>-22</td>\n",
       "    </tr>\n",
       "    <tr>\n",
       "      <th>7487</th>\n",
       "      <td>1970-11-11</td>\n",
       "      <td>265</td>\n",
       "      <td>202</td>\n",
       "      <td>3</td>\n",
       "      <td>0</td>\n",
       "      <td>3</td>\n",
       "      <td>1</td>\n",
       "      <td>-1</td>\n",
       "      <td>1</td>\n",
       "      <td>3</td>\n",
       "      <td>...</td>\n",
       "      <td>5</td>\n",
       "      <td>-5</td>\n",
       "      <td>3</td>\n",
       "      <td>-4</td>\n",
       "      <td>10</td>\n",
       "      <td>-11</td>\n",
       "      <td>0</td>\n",
       "      <td>0</td>\n",
       "      <td>4</td>\n",
       "      <td>2</td>\n",
       "    </tr>\n",
       "    <tr>\n",
       "      <th>38364</th>\n",
       "      <td>2016-11-13</td>\n",
       "      <td>142</td>\n",
       "      <td>268</td>\n",
       "      <td>1</td>\n",
       "      <td>0</td>\n",
       "      <td>1</td>\n",
       "      <td>1</td>\n",
       "      <td>-1</td>\n",
       "      <td>1</td>\n",
       "      <td>1</td>\n",
       "      <td>...</td>\n",
       "      <td>-2</td>\n",
       "      <td>2</td>\n",
       "      <td>-14</td>\n",
       "      <td>5</td>\n",
       "      <td>-3</td>\n",
       "      <td>9</td>\n",
       "      <td>0</td>\n",
       "      <td>0</td>\n",
       "      <td>-5</td>\n",
       "      <td>-2</td>\n",
       "    </tr>\n",
       "  </tbody>\n",
       "</table>\n",
       "<p>10 rows × 40 columns</p>\n",
       "</div>"
      ],
      "text/plain": [
       "            date  home_team  away_team  home_score  away_score  \\\n",
       "26043 2003-12-20        156        152           0           2   \n",
       "10925 1979-11-01        179        217           1           0   \n",
       "6702  1968-08-11        129        278           0           0   \n",
       "4769  1961-04-19        301        265           1           2   \n",
       "22092 1999-08-18        130        181           1           1   \n",
       "3009  1950-07-13        270        296           2           3   \n",
       "38525 2017-03-23         70         42           1           0   \n",
       "35316 2013-09-06        147        100           2           1   \n",
       "7487  1970-11-11        265        202           3           0   \n",
       "38364 2016-11-13        142        268           1           0   \n",
       "\n",
       "       Competicion Valoracion  Condicion A  Condicion B  Resultado Home  \\\n",
       "26043                       1            0            0              -1   \n",
       "10925                       1            1           -1               1   \n",
       "6702                        1            0            0               0   \n",
       "4769                        5            1           -1              -1   \n",
       "22092                       1            1           -1               0   \n",
       "3009                        7            0            0              -1   \n",
       "38525                       5            1           -1               1   \n",
       "35316                       5            1           -1               1   \n",
       "7487                        3            1           -1               1   \n",
       "38364                       1            1           -1               1   \n",
       "\n",
       "       Dif Goles Home  ...  M a M Dif Gol Hist Home  M a M Dif Gol Hist Away  \\\n",
       "26043              -2  ...                        0                        0   \n",
       "10925               1  ...                       -1                        1   \n",
       "6702                0  ...                       -2                        2   \n",
       "4769               -1  ...                        0                        0   \n",
       "22092               0  ...                        0                        0   \n",
       "3009               -1  ...                        0                        0   \n",
       "38525               1  ...                       14                      -14   \n",
       "35316               1  ...                       -2                        2   \n",
       "7487                3  ...                        5                       -5   \n",
       "38364               1  ...                       -2                        2   \n",
       "\n",
       "       Perfor 5 Años Home  Perfor 5 Años Away  Perfor 10 Años Home  \\\n",
       "26043                  -7                   7                  -17   \n",
       "10925                   4                   1                   18   \n",
       "6702                  -18                 -12                  -15   \n",
       "4769                    1                   8                   -4   \n",
       "22092                  -2                 -17                   -8   \n",
       "3009                   14                   0                   20   \n",
       "38525                  18                 -16                   26   \n",
       "35316                 -16                 -23                  -41   \n",
       "7487                    3                  -4                   10   \n",
       "38364                 -14                   5                   -3   \n",
       "\n",
       "       Perfor 10 Años Away  M a M Com > 5 Home  M a M Com > 5 Away  \\\n",
       "26043                   19                   0                   0   \n",
       "10925                   -4                   0                   0   \n",
       "6702                   -20                   0                   0   \n",
       "4769                     9                   0                   0   \n",
       "22092                  -18                   0                   0   \n",
       "3009                     4                   0                   0   \n",
       "38525                  -37                   5                  -5   \n",
       "35316                  -50                   0                   0   \n",
       "7487                   -11                   0                   0   \n",
       "38364                    9                   0                   0   \n",
       "\n",
       "       Perfor 10 Añ Comp>5 Home   Perfor 10 Añ Comp>5 Away  \n",
       "26043                         -8                         5  \n",
       "10925                          8                         3  \n",
       "6702                          -6                         0  \n",
       "4769                           0                         1  \n",
       "22092                         -4                        -8  \n",
       "3009                           2                         9  \n",
       "38525                         10                       -28  \n",
       "35316                        -22                       -22  \n",
       "7487                           4                         2  \n",
       "38364                         -5                        -2  \n",
       "\n",
       "[10 rows x 40 columns]"
      ]
     },
     "execution_count": 2,
     "metadata": {},
     "output_type": "execute_result"
    }
   ],
   "source": [
    "df = pd.read_excel(\"Pruebita4 con mas variables Binario_2eq.xlsx\")\n",
    "df.sample(10)"
   ]
  },
  {
   "cell_type": "code",
   "execution_count": 3,
   "metadata": {},
   "outputs": [
    {
     "data": {
      "text/plain": [
       "Index(['date', 'home_team', 'away_team', 'home_score', 'away_score',\n",
       "       'Competicion Valoracion', 'Condicion A', 'Condicion B',\n",
       "       'Resultado Home', 'Dif Goles Home', 'Resultado Away', 'Dif Goles Away ',\n",
       "       'Dif Gol Acum Home', 'Dif Gol Acum Away', 'Performance Acum Home',\n",
       "       'Performance Acum Away', 'Perf Home Año', 'Perf Away Año',\n",
       "       'Dif Gol Año Home', 'Dif Gol Año Away', 'Mano a Mano Home',\n",
       "       'Mano a Mano Away', 'Target Binario Equip A', 'Target Binario Equip B',\n",
       "       'Dif Gol Acum a fecha Home', 'Dif Gol Acum a fecha Away',\n",
       "       'Mano a Mano Histórico Home', 'Mano a Mano Histórico Away',\n",
       "       'M a M = Cond 10 años Home', 'M a M = Cond 10 años Away',\n",
       "       'M a M Dif Gol Hist Home', 'M a M Dif Gol Hist Away',\n",
       "       'Perfor 5 Años Home', 'Perfor 5 Años Away', 'Perfor 10 Años Home',\n",
       "       'Perfor 10 Años Away', 'M a M Com > 5 Home', 'M a M Com > 5 Away',\n",
       "       'Perfor 10 Añ Comp>5 Home ', 'Perfor 10 Añ Comp>5 Away'],\n",
       "      dtype='object')"
      ]
     },
     "execution_count": 3,
     "metadata": {},
     "output_type": "execute_result"
    }
   ],
   "source": [
    "df.columns"
   ]
  },
  {
   "cell_type": "code",
   "execution_count": 4,
   "metadata": {},
   "outputs": [],
   "source": [
    "df.columns = ['fecha', 'equipo_a', 'equipo_b', 'goles_a',\n",
    "        'goles_b', 'valor_competicion', 'condicion_a', 'condicion_b',\n",
    "       'resultado_a', 'diferencia_gol_a', 'resultado_b', 'diferencia_gol_b',\n",
    "       'Dif Gol Acum Home', 'Dif Gol Acum Away', 'Performance Acum Home',\n",
    "       'Performance Acum Away', 'Perf Home Año', 'Perf Away Año',\n",
    "       'Dif Gol Año Home', 'Dif Gol Año Away', 'Mano a Mano Home',\n",
    "       'Mano a Mano Away', 'TargetA','TargetB','Dif Gol Acum a fecha Home',\n",
    "       'Dif Gol Acum a fecha Away', 'Mano a Mano Histórico Home',\n",
    "       'Mano a Mano Histórico Away', 'M a M = Cond 10 años Home',\n",
    "       'M a M = Cond 10 años Away', 'M a M Dif Gol Hist Home',\n",
    "       'M a M Dif Gol Hist Away', 'Perfor 5 Años Home', 'Perfor 5 Años Away',\n",
    "       'Perfor 10 Años Home', 'Perfor 10 Años Away', 'M a M Com > 5 Home',\n",
    "       'M a M Com > 5 Away', 'Perfor 10 Añ Comp>5 Home ',\n",
    "       'Perfor 10 Añ Comp>5 Away']"
   ]
  },
  {
   "cell_type": "code",
   "execution_count": 5,
   "metadata": {},
   "outputs": [],
   "source": [
    "df['año_home'] = df['Perf Home Año']**4\n",
    "df['año_away'] = df['Perf Away Año']**4\n",
    "df['5años_Home'] = df['Perfor 5 Años Home']**3\n",
    "df['5años_Away'] = df['Perfor 5 Años Away']**3\n",
    "df['10años_Home'] = df['Perfor 10 Años Home']**2\n",
    "df['10años_Away'] = df['Perfor 10 Años Away']**2"
   ]
  },
  {
   "cell_type": "code",
   "execution_count": 6,
   "metadata": {},
   "outputs": [],
   "source": [
    "train_cols = ['equipo_a', 'equipo_b','valor_competicion', 'condicion_a', 'condicion_b',\n",
    "       'Perf Home Año', 'Perf Away Año',\n",
    "       'Dif Gol Año Home', 'Dif Gol Año Away', 'Mano a Mano Home',\n",
    "       'Mano a Mano Away','Dif Gol Acum a fecha Home',\n",
    "       'Dif Gol Acum a fecha Away', 'Mano a Mano Histórico Home',\n",
    "       'Mano a Mano Histórico Away', 'M a M = Cond 10 años Home',\n",
    "       'M a M = Cond 10 años Away', 'M a M Dif Gol Hist Home',\n",
    "       'M a M Dif Gol Hist Away', 'Perfor 5 Años Home', 'Perfor 5 Años Away',\n",
    "       'Perfor 10 Años Home', 'Perfor 10 Años Away', 'M a M Com > 5 Home',\n",
    "       'M a M Com > 5 Away', 'Perfor 10 Añ Comp>5 Home ',\n",
    "       'Perfor 10 Añ Comp>5 Away']\n",
    "X = df[train_cols]\n",
    "y = df['TargetA']"
   ]
  },
  {
   "cell_type": "code",
   "execution_count": 7,
   "metadata": {},
   "outputs": [],
   "source": [
    "X_train, X_test, y_train, y_test = train_test_split(X, y, test_size=0.33, random_state=42)"
   ]
  },
  {
   "cell_type": "code",
   "execution_count": 8,
   "metadata": {},
   "outputs": [],
   "source": [
    "from sklearn.model_selection import cross_val_score,StratifiedKFold"
   ]
  },
  {
   "cell_type": "code",
   "execution_count": 9,
   "metadata": {},
   "outputs": [],
   "source": [
    "cv = KFold(n_splits=3, random_state=10, shuffle=True)"
   ]
  },
  {
   "cell_type": "code",
   "execution_count": 10,
   "metadata": {},
   "outputs": [],
   "source": [
    "def evaluar_rendimiento(modelo, nombre):\n",
    "    s = cross_val_score(modelo, X, y, cv=cv, n_jobs=-1,scoring='precision')\n",
    "    print(\"Rendimiento de {}:\\t{:0.3} ± {:0.3}\".format( \\\n",
    "        nombre, s.mean().round(3), s.std().round(3)))"
   ]
  },
  {
   "cell_type": "code",
   "execution_count": 11,
   "metadata": {},
   "outputs": [
    {
     "name": "stdout",
     "output_type": "stream",
     "text": [
      "Rendimiento de Regresion Logistica:\t0.65 ± 0.008\n",
      "Rendimiento de Árbol de decisión:\t0.568 ± 0.006\n",
      "Rendimiento de Bagging AD:\t0.64 ± 0.01\n",
      "Rendimiento de Random Forest:\t0.658 ± 0.007\n",
      "Rendimiento de Extra Trees:\t0.66 ± 0.006\n"
     ]
    }
   ],
   "source": [
    "clf = LogisticRegression(C=1e10)\n",
    "dt = DecisionTreeClassifier(class_weight='balanced')\n",
    "bdt = BaggingClassifier(DecisionTreeClassifier())\n",
    "rf = RandomForestClassifier(class_weight='balanced')\n",
    "et = ExtraTreesClassifier(class_weight='balanced')\n",
    "\n",
    "\n",
    "#evaluar_rendimiento(clf,  \"Regresión Lógistica\")\n",
    "evaluar_rendimiento(clf,  \"Regresion Logistica\")\n",
    "evaluar_rendimiento(dt,  \"Árbol de decisión\")\n",
    "evaluar_rendimiento(bdt, \"Bagging AD\")\n",
    "evaluar_rendimiento(rf,  \"Random Forest\")\n",
    "evaluar_rendimiento(et,  \"Extra Trees\")"
   ]
  },
  {
   "cell_type": "code",
   "execution_count": 100,
   "metadata": {},
   "outputs": [],
   "source": [
    "from sklearn.neighbors import KNeighborsClassifier"
   ]
  },
  {
   "cell_type": "code",
   "execution_count": 101,
   "metadata": {},
   "outputs": [
    {
     "name": "stdout",
     "output_type": "stream",
     "text": [
      "Rendimiento de KNeighbors:\t0.576 ± 0.01\n"
     ]
    }
   ],
   "source": [
    "KNC = KNeighborsClassifier()\n",
    "\n",
    "evaluar_rendimiento(KNC,\"KNeighbors\")"
   ]
  },
  {
   "cell_type": "markdown",
   "metadata": {},
   "source": [
    "## Random Forest "
   ]
  },
  {
   "cell_type": "code",
   "execution_count": 27,
   "metadata": {},
   "outputs": [
    {
     "data": {
      "text/plain": [
       "RandomForestClassifier(max_depth=15, n_estimators=1000, n_jobs=-1,\n",
       "                       random_state=100)"
      ]
     },
     "execution_count": 27,
     "metadata": {},
     "output_type": "execute_result"
    }
   ],
   "source": [
    "rf = RandomForestClassifier(n_estimators = 1000,\n",
    "            max_depth    = 15,\n",
    "            max_features = 'auto',\n",
    "            oob_score    = False,\n",
    "            n_jobs       = -1,\n",
    "            random_state = 100)\n",
    "rf.fit(X_train,y_train)"
   ]
  },
  {
   "cell_type": "code",
   "execution_count": 28,
   "metadata": {},
   "outputs": [
    {
     "name": "stdout",
     "output_type": "stream",
     "text": [
      "0.675036496350365\n",
      "0.6593059936908517\n",
      "0.6677316293929713\n"
     ]
    }
   ],
   "source": [
    "rf_pred = rf.predict(X_test)\n",
    "print(accuracy_score(y_test,rf_pred))\n",
    "print(recall_score(y_test,rf_pred))\n",
    "print(precision_score(y_test,rf_pred))"
   ]
  },
  {
   "cell_type": "code",
   "execution_count": 29,
   "metadata": {},
   "outputs": [
    {
     "data": {
      "image/png": "[encoded data removed]",
      "text/plain": [
       "<Figure size 432x288 with 2 Axes>"
      ]
     },
     "metadata": {
      "needs_background": "light"
     },
     "output_type": "display_data"
    }
   ],
   "source": [
    "from sklearn.metrics import confusion_matrix\n",
    "confusion = confusion_matrix(y_test, rf_pred)\n",
    "sns.heatmap(confusion,annot=True,fmt='g')\n",
    "plt.show()"
   ]
  },
  {
   "cell_type": "code",
   "execution_count": 30,
   "metadata": {},
   "outputs": [],
   "source": [
    "from sklearn.model_selection import GridSearchCV"
   ]
  },
  {
   "cell_type": "code",
   "execution_count": 31,
   "metadata": {},
   "outputs": [],
   "source": [
    "param_grid = {'n_estimators': [150],\n",
    "              'max_features': [5, 7, 9],\n",
    "              'max_depth'   : [None, 3, 10, 20]\n",
    "             }"
   ]
  },
  {
   "cell_type": "code",
   "execution_count": 35,
   "metadata": {},
   "outputs": [],
   "source": [
    "from sklearn.model_selection import RepeatedKFold"
   ]
  },
  {
   "cell_type": "code",
   "execution_count": 36,
   "metadata": {},
   "outputs": [
    {
     "data": {
      "text/plain": [
       "GridSearchCV(cv=RepeatedKFold(n_repeats=3, n_splits=5, random_state=123),\n",
       "             estimator=RandomForestClassifier(random_state=123), n_jobs=-1,\n",
       "             param_grid={'max_depth': [None, 3, 10, 20],\n",
       "                         'max_features': [5, 7, 9], 'n_estimators': [150]},\n",
       "             return_train_score=True, scoring='neg_root_mean_squared_error')"
      ]
     },
     "execution_count": 36,
     "metadata": {},
     "output_type": "execute_result"
    }
   ],
   "source": [
    "grid = GridSearchCV(\n",
    "        estimator  = RandomForestClassifier(random_state = 123),\n",
    "        param_grid = param_grid,\n",
    "        scoring    = 'neg_root_mean_squared_error',\n",
    "        n_jobs     = - 1,\n",
    "        cv         = RepeatedKFold(n_splits=5, n_repeats=3, random_state=123), \n",
    "        refit      = True,\n",
    "        verbose    = 0,\n",
    "        return_train_score = True\n",
    "       )\n",
    "\n",
    "grid.fit(X = X_train, y = y_train)"
   ]
  },
  {
   "cell_type": "code",
   "execution_count": 37,
   "metadata": {},
   "outputs": [
    {
     "data": {
      "text/html": [
       "<div>\n",
       "<style scoped>\n",
       "    .dataframe tbody tr th:only-of-type {\n",
       "        vertical-align: middle;\n",
       "    }\n",
       "\n",
       "    .dataframe tbody tr th {\n",
       "        vertical-align: top;\n",
       "    }\n",
       "\n",
       "    .dataframe thead th {\n",
       "        text-align: right;\n",
       "    }\n",
       "</style>\n",
       "<table border=\"1\" class=\"dataframe\">\n",
       "  <thead>\n",
       "    <tr style=\"text-align: right;\">\n",
       "      <th></th>\n",
       "      <th>param_max_depth</th>\n",
       "      <th>param_max_features</th>\n",
       "      <th>param_n_estimators</th>\n",
       "      <th>mean_test_score</th>\n",
       "      <th>std_test_score</th>\n",
       "      <th>mean_train_score</th>\n",
       "      <th>std_train_score</th>\n",
       "    </tr>\n",
       "  </thead>\n",
       "  <tbody>\n",
       "    <tr>\n",
       "      <th>6</th>\n",
       "      <td>10</td>\n",
       "      <td>5</td>\n",
       "      <td>150</td>\n",
       "      <td>-0.578832</td>\n",
       "      <td>0.006070</td>\n",
       "      <td>-0.485865</td>\n",
       "      <td>0.001825</td>\n",
       "    </tr>\n",
       "    <tr>\n",
       "      <th>7</th>\n",
       "      <td>10</td>\n",
       "      <td>7</td>\n",
       "      <td>150</td>\n",
       "      <td>-0.578961</td>\n",
       "      <td>0.005567</td>\n",
       "      <td>-0.479321</td>\n",
       "      <td>0.001840</td>\n",
       "    </tr>\n",
       "    <tr>\n",
       "      <th>8</th>\n",
       "      <td>10</td>\n",
       "      <td>9</td>\n",
       "      <td>150</td>\n",
       "      <td>-0.578968</td>\n",
       "      <td>0.005891</td>\n",
       "      <td>-0.474454</td>\n",
       "      <td>0.002001</td>\n",
       "    </tr>\n",
       "    <tr>\n",
       "      <th>0</th>\n",
       "      <td>None</td>\n",
       "      <td>5</td>\n",
       "      <td>150</td>\n",
       "      <td>-0.581245</td>\n",
       "      <td>0.006464</td>\n",
       "      <td>-0.037479</td>\n",
       "      <td>0.001883</td>\n",
       "    </tr>\n",
       "  </tbody>\n",
       "</table>\n",
       "</div>"
      ],
      "text/plain": [
       "  param_max_depth param_max_features param_n_estimators  mean_test_score  \\\n",
       "6              10                  5                150        -0.578832   \n",
       "7              10                  7                150        -0.578961   \n",
       "8              10                  9                150        -0.578968   \n",
       "0            None                  5                150        -0.581245   \n",
       "\n",
       "   std_test_score  mean_train_score  std_train_score  \n",
       "6        0.006070         -0.485865         0.001825  \n",
       "7        0.005567         -0.479321         0.001840  \n",
       "8        0.005891         -0.474454         0.002001  \n",
       "0        0.006464         -0.037479         0.001883  "
      ]
     },
     "execution_count": 37,
     "metadata": {},
     "output_type": "execute_result"
    }
   ],
   "source": [
    "resultados = pd.DataFrame(grid.cv_results_)\n",
    "resultados.filter(regex = '(param.*|mean_t|std_t)') \\\n",
    "    .drop(columns = 'params') \\\n",
    "    .sort_values('mean_test_score', ascending = False) \\\n",
    "    .head(4)"
   ]
  },
  {
   "cell_type": "code",
   "execution_count": 38,
   "metadata": {},
   "outputs": [
    {
     "name": "stdout",
     "output_type": "stream",
     "text": [
      "{'max_depth': 10, 'max_features': 5, 'n_estimators': 150} : -0.5788319895778541 neg_root_mean_squared_error\n"
     ]
    }
   ],
   "source": [
    "print(grid.best_params_, \":\", grid.best_score_, grid.scoring)"
   ]
  },
  {
   "cell_type": "code",
   "execution_count": 39,
   "metadata": {},
   "outputs": [
    {
     "data": {
      "text/plain": [
       "RandomForestClassifier(max_depth=10, max_features=5, n_estimators=150,\n",
       "                       n_jobs=-1, random_state=123)"
      ]
     },
     "execution_count": 39,
     "metadata": {},
     "output_type": "execute_result"
    }
   ],
   "source": [
    "rf_mejorado = RandomForestClassifier(n_estimators = 150,\n",
    "            max_depth    = 10,\n",
    "            max_features = 5,\n",
    "            oob_score    = False,\n",
    "            n_jobs       = -1,\n",
    "            random_state = 123)\n",
    "rf_mejorado.fit(X_train,y_train)"
   ]
  },
  {
   "cell_type": "code",
   "execution_count": 40,
   "metadata": {},
   "outputs": [
    {
     "name": "stdout",
     "output_type": "stream",
     "text": [
      "0.6742335766423357\n",
      "0.6558509839266937\n",
      "0.6677883144692567\n"
     ]
    }
   ],
   "source": [
    "rf_pred_mj = rf_mejorado.predict(X_test)\n",
    "print(accuracy_score(y_test,rf_pred_mj))\n",
    "print(recall_score(y_test,rf_pred_mj))\n",
    "print(precision_score(y_test,rf_pred_mj))"
   ]
  },
  {
   "cell_type": "code",
   "execution_count": 41,
   "metadata": {},
   "outputs": [
    {
     "data": {
      "image/png": "[encoded data removed]",
      "text/plain": [
       "<Figure size 432x288 with 2 Axes>"
      ]
     },
     "metadata": {
      "needs_background": "light"
     },
     "output_type": "display_data"
    }
   ],
   "source": [
    "confusion = confusion_matrix(y_test, rf_pred_mj)\n",
    "sns.heatmap(confusion,annot=True,fmt='g')\n",
    "plt.show()"
   ]
  },
  {
   "cell_type": "markdown",
   "metadata": {},
   "source": [
    "## Bagging Classifier"
   ]
  },
  {
   "cell_type": "code",
   "execution_count": 42,
   "metadata": {},
   "outputs": [
    {
     "data": {
      "text/plain": [
       "BaggingClassifier(base_estimator=DecisionTreeClassifier())"
      ]
     },
     "execution_count": 42,
     "metadata": {},
     "output_type": "execute_result"
    }
   ],
   "source": [
    "bdt = BaggingClassifier(DecisionTreeClassifier())\n",
    "bdt.fit(X_train,y_train)"
   ]
  },
  {
   "cell_type": "code",
   "execution_count": 43,
   "metadata": {},
   "outputs": [
    {
     "name": "stdout",
     "output_type": "stream",
     "text": [
      "0.6299270072992701\n"
     ]
    }
   ],
   "source": [
    "bdt_pred = bdt.predict(X_test)\n",
    "print(accuracy_score(y_test,bdt_pred))"
   ]
  },
  {
   "cell_type": "code",
   "execution_count": 44,
   "metadata": {},
   "outputs": [
    {
     "data": {
      "image/png": "[encoded data removed]",
      "text/plain": [
       "<Figure size 432x288 with 2 Axes>"
      ]
     },
     "metadata": {
      "needs_background": "light"
     },
     "output_type": "display_data"
    }
   ],
   "source": [
    "confusion = confusion_matrix(y_test, bdt_pred)\n",
    "sns.heatmap(confusion,annot=True,fmt='g')\n",
    "plt.show()"
   ]
  },
  {
   "cell_type": "code",
   "execution_count": 47,
   "metadata": {},
   "outputs": [
    {
     "name": "stdout",
     "output_type": "stream",
     "text": [
      "{'base_estimator__max_depth': 6, 'base_estimator__max_leaf_nodes': 15, 'n_estimators': 40}\n"
     ]
    }
   ],
   "source": [
    "params = {'n_estimators': [40, 42], 'base_estimator__max_leaf_nodes':[10, 15], 'base_estimator__max_depth':[4, 5, 6]}\n",
    "bdt_grid = GridSearchCV(estimator=bdt, param_grid=params, scoring='neg_mean_squared_error', cv=5, n_jobs=-1)\n",
    "bdt_grid.fit(X = X_train, y = y_train)\n",
    "best_params = bdt_grid.best_params_\n",
    "print(best_params)"
   ]
  },
  {
   "cell_type": "code",
   "execution_count": 49,
   "metadata": {},
   "outputs": [
    {
     "name": "stdout",
     "output_type": "stream",
     "text": [
      "0.6608029197080292\n"
     ]
    }
   ],
   "source": [
    "final_dt = DecisionTreeClassifier(max_leaf_nodes=15, max_depth=6)                   \n",
    "final_bdt = BaggingClassifier(base_estimator=final_dt, n_estimators=40, random_state=1, oob_score=True)\n",
    "\n",
    "final_bdt.fit(X = X_train, y = y_train)\n",
    "final_preds = final_bdt.predict(X_test)\n",
    "print(accuracy_score(y_test,final_preds))"
   ]
  },
  {
   "cell_type": "code",
   "execution_count": 50,
   "metadata": {},
   "outputs": [
    {
     "data": {
      "image/png": "[encoded data removed]",
      "text/plain": [
       "<Figure size 432x288 with 2 Axes>"
      ]
     },
     "metadata": {
      "needs_background": "light"
     },
     "output_type": "display_data"
    }
   ],
   "source": [
    "confusion = confusion_matrix(y_test, final_preds)\n",
    "sns.heatmap(confusion,annot=True,fmt='g')\n",
    "plt.show()"
   ]
  },
  {
   "cell_type": "markdown",
   "metadata": {},
   "source": [
    "## Regresión Logística"
   ]
  },
  {
   "cell_type": "code",
   "execution_count": 51,
   "metadata": {},
   "outputs": [
    {
     "data": {
      "text/plain": [
       "LogisticRegression(C=10000000000.0)"
      ]
     },
     "execution_count": 51,
     "metadata": {},
     "output_type": "execute_result"
    }
   ],
   "source": [
    "clf = LogisticRegression(C=1e10)\n",
    "clf.fit(X_train,y_train)"
   ]
  },
  {
   "cell_type": "code",
   "execution_count": 52,
   "metadata": {},
   "outputs": [
    {
     "name": "stdout",
     "output_type": "stream",
     "text": [
      "0.6565693430656935\n"
     ]
    }
   ],
   "source": [
    "clf_pred = clf.predict(X_test)\n",
    "print(accuracy_score(y_test,clf_pred))"
   ]
  },
  {
   "cell_type": "code",
   "execution_count": 53,
   "metadata": {},
   "outputs": [
    {
     "data": {
      "image/png": "[encoded data removed]",
      "text/plain": [
       "<Figure size 432x288 with 2 Axes>"
      ]
     },
     "metadata": {
      "needs_background": "light"
     },
     "output_type": "display_data"
    }
   ],
   "source": [
    "confusion = confusion_matrix(y_test, clf_pred)\n",
    "sns.heatmap(confusion,annot=True,fmt='g')\n",
    "plt.show()"
   ]
  },
  {
   "cell_type": "code",
   "execution_count": 55,
   "metadata": {},
   "outputs": [
    {
     "name": "stdout",
     "output_type": "stream",
     "text": [
      "tuned hpyerparameters :(best parameters)  {'C': 0.001, 'penalty': 'l2'}\n",
      "accuracy : 0.6561323875088506\n"
     ]
    }
   ],
   "source": [
    "grid={\"C\":np.logspace(-3,3,7), \"penalty\":[\"l1\",\"l2\"]}\n",
    "logreg=LogisticRegression()\n",
    "logreg_cv=GridSearchCV(logreg,grid,cv=10)\n",
    "logreg_cv.fit(X_train,y_train)\n",
    "\n",
    "print(\"tuned hpyerparameters :(best parameters) \",logreg_cv.best_params_)\n",
    "print(\"accuracy :\",logreg_cv.best_score_)"
   ]
  },
  {
   "cell_type": "code",
   "execution_count": 56,
   "metadata": {},
   "outputs": [
    {
     "name": "stdout",
     "output_type": "stream",
     "text": [
      "score 0.6575182481751825\n"
     ]
    }
   ],
   "source": [
    "logreg2=LogisticRegression(C=0.001,penalty=\"l2\")\n",
    "logreg2.fit(X_train,y_train)\n",
    "print(\"score\",logreg2.score(X_test,y_test))"
   ]
  },
  {
   "cell_type": "code",
   "execution_count": 57,
   "metadata": {},
   "outputs": [
    {
     "name": "stdout",
     "output_type": "stream",
     "text": [
      "0.6575182481751825\n"
     ]
    }
   ],
   "source": [
    "logreg2_preds = logreg2.predict(X_test)\n",
    "print(accuracy_score(y_test,logreg2_preds))"
   ]
  },
  {
   "cell_type": "code",
   "execution_count": 58,
   "metadata": {},
   "outputs": [
    {
     "data": {
      "image/png": "[encoded data removed]",
      "text/plain": [
       "<Figure size 432x288 with 2 Axes>"
      ]
     },
     "metadata": {
      "needs_background": "light"
     },
     "output_type": "display_data"
    }
   ],
   "source": [
    "confusion = confusion_matrix(y_test, logreg2_preds)\n",
    "sns.heatmap(confusion,annot=True,fmt='g')\n",
    "plt.show()"
   ]
  },
  {
   "cell_type": "markdown",
   "metadata": {},
   "source": [
    "## Extra Trees"
   ]
  },
  {
   "cell_type": "code",
   "execution_count": 66,
   "metadata": {},
   "outputs": [
    {
     "name": "stdout",
     "output_type": "stream",
     "text": [
      "0.6677372262773723\n"
     ]
    }
   ],
   "source": [
    "et = ExtraTreesClassifier(class_weight='balanced')\n",
    "et.fit(X_train,y_train)\n",
    "et_pred = et.predict(X_test)\n",
    "print(accuracy_score(y_test,et_pred))"
   ]
  },
  {
   "cell_type": "code",
   "execution_count": 67,
   "metadata": {},
   "outputs": [
    {
     "data": {
      "image/png": "[encoded data removed]",
      "text/plain": [
       "<Figure size 432x288 with 2 Axes>"
      ]
     },
     "metadata": {
      "needs_background": "light"
     },
     "output_type": "display_data"
    }
   ],
   "source": [
    "confusion = confusion_matrix(y_test, et_pred)\n",
    "sns.heatmap(confusion,annot=True,fmt='g')\n",
    "plt.show()"
   ]
  },
  {
   "cell_type": "code",
   "execution_count": 70,
   "metadata": {},
   "outputs": [],
   "source": [
    "model = ExtraTreesClassifier(n_estimators=100, n_jobs=4, min_samples_split=25,\n",
    "                            min_samples_leaf=35, max_features=150)"
   ]
  },
  {
   "cell_type": "code",
   "execution_count": 88,
   "metadata": {},
   "outputs": [],
   "source": [
    "gsc = GridSearchCV(\n",
    "    estimator=model,\n",
    "    param_grid={\n",
    "        'n_estimators': range(50,300,50),\n",
    "        'max_features': [\"sqrt\"],\n",
    "        'min_samples_leaf': [15,30],\n",
    "        'min_samples_split': [25,50,75,100],\n",
    "    },\n",
    "    scoring='r2',\n",
    "    cv=5\n",
    ")"
   ]
  },
  {
   "cell_type": "code",
   "execution_count": 89,
   "metadata": {},
   "outputs": [],
   "source": [
    "grid_result = gsc.fit(X_train,y_train)"
   ]
  },
  {
   "cell_type": "code",
   "execution_count": 96,
   "metadata": {},
   "outputs": [
    {
     "name": "stdout",
     "output_type": "stream",
     "text": [
      "{'max_features': 'sqrt', 'min_samples_leaf': 15, 'min_samples_split': 50, 'n_estimators': 50}\n"
     ]
    }
   ],
   "source": [
    "best_params_gsc = grid_result.best_params_\n",
    "print(best_params_gsc)"
   ]
  },
  {
   "cell_type": "code",
   "execution_count": 98,
   "metadata": {},
   "outputs": [
    {
     "name": "stdout",
     "output_type": "stream",
     "text": [
      "0.6717518248175183\n"
     ]
    }
   ],
   "source": [
    "et_grid = ExtraTreesClassifier(n_estimators=50, n_jobs=4, min_samples_split=50,\n",
    "                            min_samples_leaf=15, max_features='sqrt')\n",
    "et_grid.fit(X_train,y_train)\n",
    "et_grid_pred = et_grid.predict(X_test)\n",
    "print(accuracy_score(y_test,et_grid_pred))"
   ]
  },
  {
   "cell_type": "code",
   "execution_count": 99,
   "metadata": {},
   "outputs": [
    {
     "data": {
      "image/png": "[encoded data removed]",
      "text/plain": [
       "<Figure size 432x288 with 2 Axes>"
      ]
     },
     "metadata": {
      "needs_background": "light"
     },
     "output_type": "display_data"
    }
   ],
   "source": [
    "confusion = confusion_matrix(y_test, et_grid_pred)\n",
    "sns.heatmap(confusion,annot=True,fmt='g')\n",
    "plt.show()"
   ]
  },
  {
   "cell_type": "markdown",
   "metadata": {},
   "source": [
    "## KNeighbors"
   ]
  },
  {
   "cell_type": "code",
   "execution_count": 102,
   "metadata": {},
   "outputs": [
    {
     "name": "stdout",
     "output_type": "stream",
     "text": [
      "0.6101459854014598\n"
     ]
    }
   ],
   "source": [
    "KNC = KNeighborsClassifier()\n",
    "KNC.fit(X_train,y_train)\n",
    "KNC_pred = KNC.predict(X_test)\n",
    "print(accuracy_score(y_test,KNC_pred))"
   ]
  },
  {
   "cell_type": "code",
   "execution_count": 103,
   "metadata": {},
   "outputs": [
    {
     "data": {
      "image/png": "[encoded data removed]",
      "text/plain": [
       "<Figure size 432x288 with 2 Axes>"
      ]
     },
     "metadata": {
      "needs_background": "light"
     },
     "output_type": "display_data"
    }
   ],
   "source": [
    "confusion = confusion_matrix(y_test,KNC_pred)\n",
    "sns.heatmap(confusion,annot=True,fmt='g')\n",
    "plt.show()"
   ]
  },
  {
   "cell_type": "code",
   "execution_count": 104,
   "metadata": {},
   "outputs": [],
   "source": [
    "k_range = list(range(1, 100))"
   ]
  },
  {
   "cell_type": "code",
   "execution_count": 105,
   "metadata": {},
   "outputs": [
    {
     "name": "stdout",
     "output_type": "stream",
     "text": [
      "{'n_neighbors': [1, 2, 3, 4, 5, 6, 7, 8, 9, 10, 11, 12, 13, 14, 15, 16, 17, 18, 19, 20, 21, 22, 23, 24, 25, 26, 27, 28, 29, 30, 31, 32, 33, 34, 35, 36, 37, 38, 39, 40, 41, 42, 43, 44, 45, 46, 47, 48, 49, 50, 51, 52, 53, 54, 55, 56, 57, 58, 59, 60, 61, 62, 63, 64, 65, 66, 67, 68, 69, 70, 71, 72, 73, 74, 75, 76, 77, 78, 79, 80, 81, 82, 83, 84, 85, 86, 87, 88, 89, 90, 91, 92, 93, 94, 95, 96, 97, 98, 99]}\n"
     ]
    }
   ],
   "source": [
    "param_grid_KNC = dict(n_neighbors=k_range)\n",
    "print(param_grid_KNC)"
   ]
  },
  {
   "cell_type": "code",
   "execution_count": 107,
   "metadata": {},
   "outputs": [],
   "source": [
    "grid_KNC = GridSearchCV(KNC, param_grid_KNC, cv=10, scoring='accuracy')"
   ]
  },
  {
   "cell_type": "code",
   "execution_count": 108,
   "metadata": {},
   "outputs": [
    {
     "data": {
      "text/plain": [
       "GridSearchCV(cv=10, estimator=KNeighborsClassifier(),\n",
       "             param_grid={'n_neighbors': [1, 2, 3, 4, 5, 6, 7, 8, 9, 10, 11, 12,\n",
       "                                         13, 14, 15, 16, 17, 18, 19, 20, 21, 22,\n",
       "                                         23, 24, 25, 26, 27, 28, 29, 30, ...]},\n",
       "             scoring='accuracy')"
      ]
     },
     "execution_count": 108,
     "metadata": {},
     "output_type": "execute_result"
    }
   ],
   "source": [
    "grid_KNC.fit(X_train, y_train)"
   ]
  },
  {
   "cell_type": "code",
   "execution_count": 109,
   "metadata": {},
   "outputs": [
    {
     "data": {
      "text/plain": [
       "(KNeighborsClassifier(n_neighbors=75), 0.6294895706745811, {'n_neighbors': 75})"
      ]
     },
     "execution_count": 109,
     "metadata": {},
     "output_type": "execute_result"
    }
   ],
   "source": [
    "grid_KNC.best_estimator_, grid_KNC.best_score_, grid_KNC.best_params_"
   ]
  },
  {
   "cell_type": "code",
   "execution_count": 110,
   "metadata": {},
   "outputs": [],
   "source": [
    "knn_gd = KNeighborsClassifier(n_neighbors=75)\n",
    "knn_gd.fit(X_train, y_train)\n",
    "knn_gd_pred = knn_gd.predict(X_test)"
   ]
  },
  {
   "cell_type": "code",
   "execution_count": 112,
   "metadata": {},
   "outputs": [
    {
     "name": "stdout",
     "output_type": "stream",
     "text": [
      "0.6317518248175182\n"
     ]
    }
   ],
   "source": [
    "print(accuracy_score(y_test,knn_gd_pred))"
   ]
  },
  {
   "cell_type": "code",
   "execution_count": 113,
   "metadata": {},
   "outputs": [
    {
     "data": {
      "image/png": "[encoded data removed]",
      "text/plain": [
       "<Figure size 432x288 with 2 Axes>"
      ]
     },
     "metadata": {
      "needs_background": "light"
     },
     "output_type": "display_data"
    }
   ],
   "source": [
    "confusion = confusion_matrix(y_test,knn_gd_pred)\n",
    "sns.heatmap(confusion,annot=True,fmt='g')\n",
    "plt.show()"
   ]
  }
 ],
 "metadata": {
  "kernelspec": {
   "display_name": "Python 3",
   "language": "python",
   "name": "python3"
  },
  "language_info": {
   "codemirror_mode": {
    "name": "ipython",
    "version": 3
   },
   "file_extension": ".py",
   "mimetype": "text/x-python",
   "name": "python",
   "nbconvert_exporter": "python",
   "pygments_lexer": "ipython3",
   "version": "3.8.3"
  }
 },
 "nbformat": 4,
 "nbformat_minor": 4
}
